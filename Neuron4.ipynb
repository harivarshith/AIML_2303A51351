{
  "nbformat": 4,
  "nbformat_minor": 0,
  "metadata": {
    "colab": {
      "provenance": [],
      "include_colab_link": true
    },
    "kernelspec": {
      "name": "python3",
      "display_name": "Python 3"
    },
    "language_info": {
      "name": "python"
    }
  },
  "cells": [
    {
      "cell_type": "markdown",
      "metadata": {
        "id": "view-in-github",
        "colab_type": "text"
      },
      "source": [
        "<a href=\"https://colab.research.google.com/github/harivarshith/AIML_2303A51351/blob/main/Neuron4.ipynb\" target=\"_parent\"><img src=\"https://colab.research.google.com/assets/colab-badge.svg\" alt=\"Open In Colab\"/></a>"
      ]
    },
    {
      "cell_type": "code",
      "execution_count": null,
      "metadata": {
        "colab": {
          "base_uri": "https://localhost:8080/"
        },
        "id": "SZDIt0V1s2fF",
        "outputId": "2e99f59a-1b97-4e7a-e86e-a7e618d4c7b4"
      },
      "outputs": [
        {
          "output_type": "stream",
          "name": "stdout",
          "text": [
            "[1.1  0.55 1.16]\n"
          ]
        }
      ],
      "source": [
        "import numpy as np\n",
        "\n",
        "\n",
        "\n",
        "\n",
        "def relu(x):\n",
        "    return np.maximum(0,x)\n",
        "\n",
        "inputs = np.array([0.4, 0.3, 1, 0.8])\n",
        "weights = np.array([\n",
        "        [0.3, 0.2, 0.1, 0.4],\n",
        "            [0.4, 0.1, -0.1, 0.2],\n",
        "                [0.2, -0.2, -0.1, 0.8]\n",
        "                ])\n",
        "biases = np.array([0.5, 0.3, 0.6])\n",
        "\n",
        "output = relu(np.dot(weights, inputs) + biases)\n",
        "\n",
        "output1=relu(output)\n",
        "print(output1)\n",
        "\n",
        "\n",
        "\n",
        "\n",
        "\n",
        "\n",
        "\n",
        "\n",
        "\n",
        "\n",
        "\n",
        "\n"
      ]
    }
  ]
}