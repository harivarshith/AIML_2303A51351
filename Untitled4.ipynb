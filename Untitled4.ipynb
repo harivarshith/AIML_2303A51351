{
  "nbformat": 4,
  "nbformat_minor": 0,
  "metadata": {
    "colab": {
      "provenance": [],
      "authorship_tag": "ABX9TyOR3OfedHB7tU7W64XYX8Ao",
      "include_colab_link": true
    },
    "kernelspec": {
      "name": "python3",
      "display_name": "Python 3"
    },
    "language_info": {
      "name": "python"
    }
  },
  "cells": [
    {
      "cell_type": "markdown",
      "metadata": {
        "id": "view-in-github",
        "colab_type": "text"
      },
      "source": [
        "<a href=\"https://colab.research.google.com/github/harivarshith/AIML_2303A51351/blob/main/Untitled4.ipynb\" target=\"_parent\"><img src=\"https://colab.research.google.com/assets/colab-badge.svg\" alt=\"Open In Colab\"/></a>"
      ]
    },
    {
      "cell_type": "code",
      "source": [
        "'''Part-01:Implement Breadth First Search Alogorithm'''\n",
        "from queue import Queue\n",
        "graph={0:[1,2,3],\n",
        "       1:[0,2],\n",
        "       2:[1,3,5],\n",
        "       3:[0,2,4],\n",
        "       4:[3,5,7],\n",
        "       5:[2,4,6,7],\n",
        "       6:[5,7],\n",
        "       7:[]}\n",
        "print(\"The adjacency List representing the graph is:\")\n",
        "print(graph)\n",
        "\n",
        "def bfs(graph, source):\n",
        "    Q=Queue()\n",
        "    visited_vertices=set()\n",
        "    Q.put(source)\n",
        "    visited_vertices.update({source})\n",
        "    while not Q.empty():\n",
        "       vertex = Q.get()\n",
        "       print(vertex, end=\"->\")\n",
        "       for u in graph[vertex]:\n",
        "            if u not in visited_vertices:\n",
        "              Q.put(u)\n",
        "              visited_vertices.update({u})\n",
        "print(\"BFS traversal of graph with source 1 is:\")\n",
        "bfs(graph, 1)"
      ],
      "metadata": {
        "colab": {
          "base_uri": "https://localhost:8080/"
        },
        "id": "1_ZvIkZy6glT",
        "outputId": "d6119ce0-b272-431c-eedf-2fa6e44ec358"
      },
      "execution_count": 12,
      "outputs": [
        {
          "output_type": "stream",
          "name": "stdout",
          "text": [
            "The adjacency List representing the graph is:\n",
            "{0: [1, 2, 3], 1: [0, 2], 2: [1, 3, 5], 3: [0, 2, 4], 4: [3, 5, 7], 5: [2, 4, 6, 7], 6: [5, 7], 7: []}\n",
            "BFS traversal of graph with source 1 is:\n",
            "1->0->2->3->5->4->6->7->"
          ]
        }
      ]
    },
    {
      "cell_type": "code",
      "source": [
        "graph1 = {\n",
        "      'A': ['B', 'C', 'G'],\n",
        "      'B': ['A'],\n",
        "      'C': ['A', 'D', 'F'],\n",
        "      'D': ['A', 'C', 'E', 'H'],\n",
        "      'E': ['D', 'H', 'F'],\n",
        "      'F': ['C', 'E'],\n",
        "      'G': ['A', 'D', 'H'],\n",
        "      'H': ['D', 'E', 'G']\n",
        "    }\n",
        "\n",
        "def dfs(graph, node, visited):\n",
        "   if node not in visited:\n",
        "     visited.append(node)\n",
        "     for k in graph[node]:\n",
        "       dfs(graph,k,visited)\n",
        "   return visited\n",
        "visited = dfs(graph1,'B',[])\n",
        "print(visited)\n",
        "\n",
        "\n"
      ],
      "metadata": {
        "colab": {
          "base_uri": "https://localhost:8080/"
        },
        "id": "crKGMeiN73SD",
        "outputId": "ef2905c9-d6fb-4a69-b33b-bfd668954bb0"
      },
      "execution_count": 25,
      "outputs": [
        {
          "output_type": "stream",
          "name": "stdout",
          "text": [
            "['B', 'A', 'C', 'D', 'E', 'H', 'G', 'F']\n"
          ]
        }
      ]
    },
    {
      "cell_type": "code",
      "source": [
        "graph1={\n",
        "      'A':['B','S'],\n",
        "      'B':['A'],\n",
        "      'S':['A','C','G'],\n",
        "      'G':['S','F','H'],\n",
        "      'H':['G','E'],\n",
        "      'E':['D','H','F'],\n",
        "      'F':['C','G'],\n",
        "      'C':['S','E','D'],\n",
        "      'D':['C']\n",
        "}\n",
        "def dfs(graph,node,visited):\n",
        "  if node not in visited:\n",
        "    visited.append(node)\n",
        "       for k in graph[node]:\n",
        "       dfs(graph,k,visited)\n",
        "       return visited\n",
        "visited=dfs(graph1,'B',[])\n",
        "print(visited)\n",
        "}\n",
        "\n",
        "\n"
      ],
      "metadata": {
        "colab": {
          "base_uri": "https://localhost:8080/",
          "height": 106
        },
        "id": "zxG_d1nTAzE8",
        "outputId": "3c9fb999-9983-4d4f-e272-f6d16bafd3ef"
      },
      "execution_count": 29,
      "outputs": [
        {
          "output_type": "error",
          "ename": "IndentationError",
          "evalue": "unexpected indent (<ipython-input-29-d2dbab693a8e>, line 15)",
          "traceback": [
            "\u001b[0;36m  File \u001b[0;32m\"<ipython-input-29-d2dbab693a8e>\"\u001b[0;36m, line \u001b[0;32m15\u001b[0m\n\u001b[0;31m    for k in graph[node]:\u001b[0m\n\u001b[0m    ^\u001b[0m\n\u001b[0;31mIndentationError\u001b[0m\u001b[0;31m:\u001b[0m unexpected indent\n"
          ]
        }
      ]
    }
  ]
}