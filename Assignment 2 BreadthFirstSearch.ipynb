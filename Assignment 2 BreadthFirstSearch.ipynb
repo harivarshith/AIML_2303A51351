{
  "nbformat": 4,
  "nbformat_minor": 0,
  "metadata": {
    "colab": {
      "provenance": [],
      "include_colab_link": true
    },
    "kernelspec": {
      "name": "python3",
      "display_name": "Python 3"
    },
    "language_info": {
      "name": "python"
    }
  },
  "cells": [
    {
      "cell_type": "markdown",
      "metadata": {
        "id": "view-in-github",
        "colab_type": "text"
      },
      "source": [
        "<a href=\"https://colab.research.google.com/github/harivarshith/AIML_2303A51351/blob/main/Assignment%202%20BreadthFirstSearch.ipynb\" target=\"_parent\"><img src=\"https://colab.research.google.com/assets/colab-badge.svg\" alt=\"Open In Colab\"/></a>"
      ]
    },
    {
      "cell_type": "code",
      "execution_count": null,
      "metadata": {
        "colab": {
          "base_uri": "https://localhost:8080/"
        },
        "id": "p42ugcYLCuTh",
        "outputId": "5fe66bec-697f-448e-e7d6-9ba05f01382e"
      },
      "outputs": [
        {
          "output_type": "stream",
          "name": "stdout",
          "text": [
            "The adjacency List representing the graph is:\n",
            "{0: [1, 3], 1: [0, 2, 3], 2: [1, 4, 5], 3: [0, 1, 4], 4: [2, 3, 5], 5: [2, 4], 6: []}\n",
            "BFS traversal of graph with source 1 is:\n",
            "1-->0-->2-->3-->4-->5-->"
          ]
        }
      ],
      "source": [
        "from queue import Queue\n",
        "\n",
        "graph = {0: [1, 3],\n",
        "         1: [0, 2, 3],\n",
        "         2: [1, 4, 5],\n",
        "         3: [0, 1, 4],\n",
        "         4: [2, 3, 5],\n",
        "         5: [2, 4],\n",
        "\n",
        "         6:[]}\n",
        "print(\"The adjacency List representing the graph is:\")\n",
        "print(graph)\n",
        "\n",
        "\n",
        "def bfs(graph, source):\n",
        "       Q = Queue()\n",
        "       visited_vertices = set()\n",
        "       Q.put(source)\n",
        "       visited_vertices.update({source})\n",
        "       while not Q.empty():\n",
        "           vertex = Q.get()\n",
        "           print(vertex, end=\"-->\")\n",
        "           for u in graph[vertex]:\n",
        "                if u not in visited_vertices:\n",
        "                      Q.put(u)\n",
        "                      visited_vertices.update({u})\n",
        "\n",
        "print(\"BFS traversal of graph with source 1 is:\")\n",
        "bfs(graph, 1)"
      ]
    }
  ]
}